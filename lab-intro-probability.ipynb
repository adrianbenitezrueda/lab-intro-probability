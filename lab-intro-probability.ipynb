{
 "cells": [
  {
   "cell_type": "markdown",
   "metadata": {},
   "source": [
    "# Lab | Intro to Probability"
   ]
  },
  {
   "cell_type": "markdown",
   "metadata": {},
   "source": [
    "**Objective**\n",
    "\n",
    "Welcome to this Intro to Probability lab, where we explore decision-making scenarios through the lens of probability and strategic analysis. In the business world, making informed decisions is crucial, especially when faced with uncertainties. This lab focuses on scenarios where probabilistic outcomes play a significant role in shaping strategies and outcomes. Students will engage in exercises that require assessing and choosing optimal paths based on data-driven insights. The goal is to enhance your skills by applying probability concepts to solve real-world problems."
   ]
  },
  {
   "cell_type": "markdown",
   "metadata": {},
   "source": [
    "**Challenge 1**"
   ]
  },
  {
   "cell_type": "markdown",
   "metadata": {},
   "source": [
    "#### Ironhack Airlines \n",
    "\n",
    "Often Airlines sell more tickets than they have seats available, this is called overbooking. Consider the following:\n",
    "- A plane has 450 seats. \n",
    "- Based on historical data we conclude that each individual passenger has a 3% chance of missing it's flight. \n",
    "\n",
    "If the Ironhack Airlines routinely sells 460 tickets, what is the chance that they have a seats for all passenger?"
   ]
  },
  {
   "cell_type": "code",
   "execution_count": 5,
   "metadata": {},
   "outputs": [
    {
     "name": "stdout",
     "output_type": "stream",
     "text": [
      "La probabilidad de que haya asientos para todos los pasajeros es: 0.8845\n"
     ]
    }
   ],
   "source": [
    "from scipy.stats import binom\n",
    "\n",
    "# Parámetros\n",
    "n = 460  # Número total de tickets vendidos\n",
    "p = 0.03  # Probabilidad de que un pasajero no se presente\n",
    "seats = 450  # Asientos disponibles\n",
    "\n",
    "# Calculamos la probabilidad de que 450 o menos pasajeros se presenten con el concepto de la distribución binomial\n",
    "prob = binom.cdf(seats, n, 1 - p)\n",
    "\n",
    "# Probabilidad de que haya lugar para todos los pasajeros\n",
    "print(f\"La probabilidad de que haya asientos para todos los pasajeros es: {prob:.4f}\")\n"
   ]
  },
  {
   "cell_type": "markdown",
   "metadata": {},
   "source": [
    "**Challenge 2**"
   ]
  },
  {
   "cell_type": "markdown",
   "metadata": {},
   "source": [
    "#### Ironhack Call Center "
   ]
  },
  {
   "cell_type": "markdown",
   "metadata": {},
   "source": [
    "Suppose a customer service representative at a call center is handling customer complaints. Consider the following:\n",
    "- The probability of successfully resolving a customer complaint on the first attempt is 0.3. \n",
    "\n",
    "\n",
    "What is the probability that the representative needs to make at least three attempts before successfully resolving a customer complaint?"
   ]
  },
  {
   "cell_type": "code",
   "execution_count": 2,
   "metadata": {},
   "outputs": [
    {
     "name": "stdout",
     "output_type": "stream",
     "text": [
      "La probabilidad de que se necesiten al menos tres intentos es: 0.4900\n"
     ]
    }
   ],
   "source": [
    "from scipy.stats import geom\n",
    "\n",
    "# Probabilidad de éxito en cada intento\n",
    "p = 0.3\n",
    "\n",
    "# Probabilidad de que el éxito ocurra en el tercer intento o más con el método de distribución geométrica\n",
    "prob = 1 - geom.cdf(2, p)\n",
    "\n",
    "print(f\"La probabilidad de que se necesiten al menos tres intentos es: {prob:.4f}\")\n"
   ]
  },
  {
   "cell_type": "markdown",
   "metadata": {},
   "source": [
    "**Challenge 3**"
   ]
  },
  {
   "cell_type": "markdown",
   "metadata": {},
   "source": [
    "#### Ironhack Website"
   ]
  },
  {
   "cell_type": "markdown",
   "metadata": {},
   "source": [
    "Consider a scenario related to Ironhack website traffic. Where:\n",
    "- our website takes on average 500 visits per hour.\n",
    "- the website's server is designed to handle up to 550 vists per hour.\n",
    "\n",
    "\n",
    "What is the probability of the website server being overwhelmed?"
   ]
  },
  {
   "cell_type": "code",
   "execution_count": 3,
   "metadata": {},
   "outputs": [
    {
     "name": "stdout",
     "output_type": "stream",
     "text": [
      "La probabilidad de que el servidor se sobrecargue es: 0.0129\n"
     ]
    }
   ],
   "source": [
    "from scipy.stats import poisson\n",
    "\n",
    "# Parámetro de la distribución de Poisson\n",
    "lambda_visits = 500\n",
    "\n",
    "# Probabilidad de que el servidor esté sobrecargado (más de 550 visitas)\n",
    "prob_overwhelmed = 1 - poisson.cdf(550, lambda_visits)\n",
    "\n",
    "print(f\"La probabilidad de que el servidor se sobrecargue es: {prob_overwhelmed:.4f}\")\n"
   ]
  },
  {
   "cell_type": "markdown",
   "metadata": {},
   "source": [
    "What is the probability of being overwhelmed at some point during a day? (consider 24hours)"
   ]
  },
  {
   "cell_type": "code",
   "execution_count": 4,
   "metadata": {},
   "outputs": [
    {
     "name": "stdout",
     "output_type": "stream",
     "text": [
      "La probabilidad de que el servidor se sobrecargue en algún momento durante el día es: 0.2677\n"
     ]
    }
   ],
   "source": [
    "from scipy.stats import poisson\n",
    "\n",
    "# Parámetro de la distribución de Poisson\n",
    "lambda_visits = 500\n",
    "\n",
    "# Probabilidad de que el servidor esté sobrecargado (más de 550 visitas) en una hora\n",
    "prob_overwhelmed_per_hour = 1 - poisson.cdf(550, lambda_visits)\n",
    "\n",
    "# Probabilidad de que no se sobrecargue en una hora\n",
    "prob_not_overwhelmed_per_hour = 1 - prob_overwhelmed_per_hour\n",
    "\n",
    "# Probabilidad de que no se sobrecargue en 24 horas\n",
    "prob_not_overwhelmed_per_day = prob_not_overwhelmed_per_hour ** 24\n",
    "\n",
    "# Probabilidad de que se sobrecargue al menos una vez en 24 horas\n",
    "prob_overwhelmed_per_day = 1 - prob_not_overwhelmed_per_day\n",
    "\n",
    "print(f\"La probabilidad de que el servidor se sobrecargue en algún momento durante el día es: {prob_overwhelmed_per_day:.4f}\")"
   ]
  },
  {
   "cell_type": "markdown",
   "metadata": {},
   "source": [
    "**Challenge 4**"
   ]
  },
  {
   "cell_type": "markdown",
   "metadata": {},
   "source": [
    "#### Ironhack Helpdesk"
   ]
  },
  {
   "cell_type": "markdown",
   "metadata": {},
   "source": [
    "Consider a scenario related to the time between arrivals of customers at a service desk.\n",
    "\n",
    "On average, a customers arrives every 10minutes.\n",
    "\n",
    "What is the probability that the next customer will arrive within the next 5 minutes?"
   ]
  },
  {
   "cell_type": "code",
   "execution_count": 6,
   "metadata": {},
   "outputs": [
    {
     "name": "stdout",
     "output_type": "stream",
     "text": [
      "La probabilidad de que el próximo cliente llegue dentro de 5 minutos es: 0.3935\n"
     ]
    }
   ],
   "source": [
    "from scipy.stats import expon\n",
    "\n",
    "# Parámetro de la distribución exponencial (tasa de llegadas)\n",
    "lambda_rate = 1 / 10  # Un cliente cada 10 minutos\n",
    "\n",
    "# Tiempo que nos interesa (dentro de 5 minutos)\n",
    "time = 5\n",
    "\n",
    "# Probabilidad de que el próximo cliente llegue en los próximos 5 minutos\n",
    "prob_within_5_minutes = expon.cdf(time, scale=1/lambda_rate)\n",
    "\n",
    "print(f\"La probabilidad de que el próximo cliente llegue dentro de 5 minutos es: {prob_within_5_minutes:.4f}\")"
   ]
  },
  {
   "cell_type": "markdown",
   "metadata": {},
   "source": [
    "If there is no customer for 15minutes, employees can that a 5minutes break.\n",
    "\n",
    "What is the probability an employee taking a break?"
   ]
  },
  {
   "cell_type": "code",
   "execution_count": 10,
   "metadata": {},
   "outputs": [
    {
     "name": "stdout",
     "output_type": "stream",
     "text": [
      "La probabilidad de que un empleado pueda tomar un descanso es de 0.2231\n"
     ]
    }
   ],
   "source": [
    "from scipy.stats import expon\n",
    "\n",
    "# Parámetro de la distribución exponencial (tasa de llegadas)\n",
    "lambda_rate = 1 / 10  # Un cliente cada 10 minutos\n",
    "\n",
    "# Tiempo de espera sin clientes para que el empleado tome un descanso (15 minutos)\n",
    "time_without_customer = 15\n",
    "\n",
    "# Probabilidad de que no llegue ningún cliente en los primeros 15 minutos\n",
    "prob_no_customer_in_15_minutes = 1 - expon.cdf(time_without_customer, scale=1/lambda_rate)\n",
    "\n",
    "print(f\"La probabilidad de que un empleado pueda tomar un descanso es de {prob_no_customer_in_15_minutes:.4f}\".)\n"
   ]
  },
  {
   "cell_type": "markdown",
   "metadata": {},
   "source": [
    "**Challenge 5**"
   ]
  },
  {
   "cell_type": "markdown",
   "metadata": {},
   "source": [
    "The weights of a certain species of birds follow a normal distribution with a mean weight of 150 grams and a standard deviation of 10 grams. \n",
    "\n",
    "- If we randomly select a bird, what is the probability that its weight is between 140 and 160 grams?"
   ]
  },
  {
   "cell_type": "code",
   "execution_count": 6,
   "metadata": {},
   "outputs": [
    {
     "name": "stdout",
     "output_type": "stream",
     "text": [
      "La probabilidad de que un pájaro aleatorio pese entre 140-160 gramos es de 0.683.\n"
     ]
    }
   ],
   "source": [
    "import scipy.stats as stats\n",
    "\n",
    "# Definimos los parámetros\n",
    "mu = 150  # Media\n",
    "sigma = 10  # Desviación estándar\n",
    "\n",
    "# Calculamos la probabilidad para 140 y 160 gramos\n",
    "prob_140 = stats.norm.cdf(140, mu, sigma)\n",
    "prob_160 = stats.norm.cdf(160, mu, sigma)\n",
    "\n",
    "# La probabilidad entre 140 y 160 gramos es la diferencia entre prob_160 y prob_140\n",
    "probability = prob_160 - prob_140\n",
    "\n",
    "print(f\"La probabilidad de que un pájaro aleatorio pese entre 140-160 gramos es de {probability.round(3)}.\")\n"
   ]
  },
  {
   "cell_type": "markdown",
   "metadata": {},
   "source": [
    "**Challenge 6**"
   ]
  },
  {
   "cell_type": "markdown",
   "metadata": {},
   "source": [
    "If the lifetime (in hours) of a certain electronic component follows an exponential distribution with a mean lifetime of 50 hours, what is the probability that the component fails within the first 30 hours?"
   ]
  },
  {
   "cell_type": "code",
   "execution_count": 8,
   "metadata": {},
   "outputs": [
    {
     "name": "stdout",
     "output_type": "stream",
     "text": [
      "La probabilidad de que el componente falle en las primeras 30 horas es de 0.451.\n"
     ]
    }
   ],
   "source": [
    "import numpy as np\n",
    "\n",
    "# Parámetros\n",
    "lambda_rate = 1 / 50  # Tasa de fallas\n",
    "\n",
    "# Tiempo de interés\n",
    "t = 30\n",
    "\n",
    "# Calcular la probabilidad de falla antes de 30 horas\n",
    "probability = 1 - np.exp(-lambda_rate * t)\n",
    "\n",
    "print(f\"La probabilidad de que el componente falle en las primeras 30 horas es de {probability.round(3)}.\")\n",
    "\n"
   ]
  },
  {
   "cell_type": "code",
   "execution_count": null,
   "metadata": {},
   "outputs": [],
   "source": []
  }
 ],
 "metadata": {
  "kernelspec": {
   "display_name": "Python 3",
   "language": "python",
   "name": "python3"
  },
  "language_info": {
   "codemirror_mode": {
    "name": "ipython",
    "version": 3
   },
   "file_extension": ".py",
   "mimetype": "text/x-python",
   "name": "python",
   "nbconvert_exporter": "python",
   "pygments_lexer": "ipython3",
   "version": "3.12.4"
  }
 },
 "nbformat": 4,
 "nbformat_minor": 2
}
